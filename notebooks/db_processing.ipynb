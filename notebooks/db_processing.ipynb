{
 "cells": [
  {
   "cell_type": "code",
   "execution_count": null,
   "id": "31f5038d-9395-409b-9c7a-10d73b2feb88",
   "metadata": {},
   "outputs": [],
   "source": [
    "import duckdb\n",
    "import  pandas as pd\n",
    "\n",
    "\n",
    "import os\n",
    "import sys\n",
    "from typing_extensions import TypedDict, Annotated\n",
    "\n",
    "sys.path.extend([os.getcwd(),'..'])\n",
    "\n",
    "from  config import  CONFIG\n",
    "\n",
    "# import nltk\n",
    "# from nltk.tokenize import word_tokenize, sent_tokenize\n",
    "# from nltk.metrics.distance  import edit_distance\n",
    "# nltk.download('punkt_tab')\n",
    "# nltk.download('words')\n",
    "# from nltk.corpus import words\n",
    "# correct_words = words.words()\n",
    "\n",
    "import os\n",
    "from langchain.chat_models import init_chat_model\n",
    "\n",
    "with open(\"../openrouter_key.txt\",\"r\") as f:\n",
    "    key=f.read()\n",
    "\n",
    "llm = init_chat_model(model_provider=CONFIG.LLM_MODEL_PROVIDER,\n",
    "                      model=CONFIG.LLM_MODEL,\n",
    "                      base_url=CONFIG.LLM_BASE_URL,\n",
    "                      api_key=key)\n",
    "\n",
    "sep=\"\\n#@#@#@#@#@#@#@#@#@##@#@#@#@#@#@#@#@#@##@#@#@#@#@#@#@#@#@#\\n\""
   ]
  },
  {
   "cell_type": "code",
   "execution_count": null,
   "id": "cc07b3fc-cfcc-4aa2-8fd0-f4625251b38d",
   "metadata": {},
   "outputs": [],
   "source": [
    "llm.invoke(\"hello\").content"
   ]
  },
  {
   "cell_type": "code",
   "execution_count": null,
   "id": "47aa2ff5-57af-4a2b-a298-de316e4fc722",
   "metadata": {},
   "outputs": [],
   "source": [
    "with duckdb.connect('../data.duckdb') as con:\n",
    "    data=con.execute(\"SELECT * FROM papers_raw;\").df()"
   ]
  },
  {
   "cell_type": "code",
   "execution_count": null,
   "id": "a05476e5-738e-4aca-820c-5535b163d96e",
   "metadata": {},
   "outputs": [],
   "source": [
    "# [print(sep,t[:150]) for t in data.raw_text];\n"
   ]
  },
  {
   "cell_type": "code",
   "execution_count": null,
   "id": "efb99302-2369-4fe8-b5c5-c4ead8508d22",
   "metadata": {},
   "outputs": [],
   "source": [
    "text=data.raw_text[2]"
   ]
  },
  {
   "cell_type": "code",
   "execution_count": null,
   "id": "63e4e8ac-6504-4d99-95ab-86d1e52fb57b",
   "metadata": {},
   "outputs": [],
   "source": [
    "print(text[:1500])"
   ]
  },
  {
   "cell_type": "code",
   "execution_count": null,
   "id": "1585739d-aa69-494f-bec4-377613fb92ad",
   "metadata": {},
   "outputs": [],
   "source": [
    "prompt=f\"\"\"\n",
    "The text enclosed in triple backticks is  the header of a research paper.\n",
    "Extract the title from given text.\n",
    "Return only the title.\n",
    "\n",
    "```{text[:200]}```\n",
    "\"\"\"\n",
    "print(llm.invoke(prompt).content.strip())"
   ]
  },
  {
   "cell_type": "code",
   "execution_count": null,
   "id": "577fa234-42c3-4416-8f11-5ae77bd82b38",
   "metadata": {},
   "outputs": [],
   "source": [
    "class ResearchPaper(TypedDict):\n",
    "    \"\"\"A research  paper  with details.\"\"\"\n",
    "    title: Annotated[str, ..., \"The title of the paper\"]\n",
    "    #abstract_summary: Annotated[str, ..., \"Summary of the abstract of the paper\"]\n",
    "    abstract: Annotated[str, ..., \"The abstract of the paper\"]\n",
    "    \n",
    "text=data.raw_text[6]\n",
    "\n",
    "prompt=f\"\"\"\n",
    "The text enclosed in triple backticks is part of the first page of a research paper.\n",
    "Extract the paper title and abstract from the given text.\n",
    "Fix any grammar or syntax errors.\n",
    "\n",
    "```{text[:1500]}```\n",
    "\"\"\"\n",
    "llm_with_structure = llm.with_structured_output(ResearchPaper)\n",
    "\n",
    "print(llm_with_structure.invoke(prompt))"
   ]
  },
  {
   "cell_type": "code",
   "execution_count": null,
   "id": "d8fbe24f-a051-4ff0-ad02-a703244bbb10",
   "metadata": {},
   "outputs": [],
   "source": []
  },
  {
   "cell_type": "code",
   "execution_count": null,
   "id": "5e32b828-0c71-4f6a-b383-dfd95e92ab3b",
   "metadata": {},
   "outputs": [],
   "source": []
  }
 ],
 "metadata": {
  "kernelspec": {
   "display_name": "Python 3 (ipykernel)",
   "language": "python",
   "name": "python3"
  },
  "language_info": {
   "codemirror_mode": {
    "name": "ipython",
    "version": 3
   },
   "file_extension": ".py",
   "mimetype": "text/x-python",
   "name": "python",
   "nbconvert_exporter": "python",
   "pygments_lexer": "ipython3",
   "version": "3.13.7"
  }
 },
 "nbformat": 4,
 "nbformat_minor": 5
}
